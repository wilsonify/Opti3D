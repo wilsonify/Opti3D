{
 "cells": [
  {
   "cell_type": "code",
   "execution_count": 2,
   "metadata": {},
   "outputs": [],
   "source": [
    "import os\n",
    "import glob\n",
    "from functools import reduce\n",
    "import operator"
   ]
  },
  {
   "cell_type": "code",
   "execution_count": 3,
   "metadata": {},
   "outputs": [
    {
     "name": "stdout",
     "output_type": "stream",
     "text": [
      "stl_files/cube.stl\n",
      "stl_files/largecube.stl\n",
      "stl_files/monkey.stl\n"
     ]
    }
   ],
   "source": [
    "for file in glob.glob('stl_files/*.stl'):\n",
    "  print(file)"
   ]
  },
  {
   "cell_type": "code",
   "execution_count": 58,
   "metadata": {},
   "outputs": [
    {
     "name": "stdout",
     "output_type": "stream",
     "text": [
      "1 out of 3\n",
      "slic3r --nozzle-diameter 0.1 ./stl_files/largecube.stl\n"
     ]
    },
    {
     "ename": "FileNotFoundError",
     "evalue": "[Errno 2] No such file or directory: 'slic3r --nozzle-diameter 0.1 ./stl_files/largecube.stl': 'slic3r --nozzle-diameter 0.1 ./stl_files/largecube.stl'",
     "output_type": "error",
     "traceback": [
      "\u001b[0;31m---------------------------------------------------------------------------\u001b[0m",
      "\u001b[0;31mFileNotFoundError\u001b[0m                         Traceback (most recent call last)",
      "\u001b[0;32m<ipython-input-58-14c49b4725a5>\u001b[0m in \u001b[0;36m<module>\u001b[0;34m()\u001b[0m\n\u001b[1;32m    158\u001b[0m \u001b[0;34m\u001b[0m\u001b[0m\n\u001b[1;32m    159\u001b[0m     \u001b[0;31m#run the command and error if the exit status is non-zero\u001b[0m\u001b[0;34m\u001b[0m\u001b[0;34m\u001b[0m\u001b[0;34m\u001b[0m\u001b[0m\n\u001b[0;32m--> 160\u001b[0;31m     \u001b[0mcheck_output\u001b[0m\u001b[0;34m(\u001b[0m\u001b[0mcmd_str\u001b[0m\u001b[0;34m)\u001b[0m\u001b[0;34m\u001b[0m\u001b[0;34m\u001b[0m\u001b[0m\n\u001b[0m\u001b[1;32m    161\u001b[0m     \u001b[0mprint\u001b[0m\u001b[0;34m(\u001b[0m\u001b[0;34m'done'\u001b[0m\u001b[0;34m)\u001b[0m\u001b[0;34m\u001b[0m\u001b[0;34m\u001b[0m\u001b[0m\n\u001b[1;32m    162\u001b[0m     \u001b[0mcount\u001b[0m\u001b[0;34m+=\u001b[0m\u001b[0;36m1\u001b[0m\u001b[0;34m\u001b[0m\u001b[0;34m\u001b[0m\u001b[0m\n",
      "\u001b[0;32m/usr/lib/python3.6/subprocess.py\u001b[0m in \u001b[0;36mcheck_output\u001b[0;34m(timeout, *popenargs, **kwargs)\u001b[0m\n\u001b[1;32m    334\u001b[0m \u001b[0;34m\u001b[0m\u001b[0m\n\u001b[1;32m    335\u001b[0m     return run(*popenargs, stdout=PIPE, timeout=timeout, check=True,\n\u001b[0;32m--> 336\u001b[0;31m                **kwargs).stdout\n\u001b[0m\u001b[1;32m    337\u001b[0m \u001b[0;34m\u001b[0m\u001b[0m\n\u001b[1;32m    338\u001b[0m \u001b[0;34m\u001b[0m\u001b[0m\n",
      "\u001b[0;32m/usr/lib/python3.6/subprocess.py\u001b[0m in \u001b[0;36mrun\u001b[0;34m(input, timeout, check, *popenargs, **kwargs)\u001b[0m\n\u001b[1;32m    401\u001b[0m         \u001b[0mkwargs\u001b[0m\u001b[0;34m[\u001b[0m\u001b[0;34m'stdin'\u001b[0m\u001b[0;34m]\u001b[0m \u001b[0;34m=\u001b[0m \u001b[0mPIPE\u001b[0m\u001b[0;34m\u001b[0m\u001b[0;34m\u001b[0m\u001b[0m\n\u001b[1;32m    402\u001b[0m \u001b[0;34m\u001b[0m\u001b[0m\n\u001b[0;32m--> 403\u001b[0;31m     \u001b[0;32mwith\u001b[0m \u001b[0mPopen\u001b[0m\u001b[0;34m(\u001b[0m\u001b[0;34m*\u001b[0m\u001b[0mpopenargs\u001b[0m\u001b[0;34m,\u001b[0m \u001b[0;34m**\u001b[0m\u001b[0mkwargs\u001b[0m\u001b[0;34m)\u001b[0m \u001b[0;32mas\u001b[0m \u001b[0mprocess\u001b[0m\u001b[0;34m:\u001b[0m\u001b[0;34m\u001b[0m\u001b[0;34m\u001b[0m\u001b[0m\n\u001b[0m\u001b[1;32m    404\u001b[0m         \u001b[0;32mtry\u001b[0m\u001b[0;34m:\u001b[0m\u001b[0;34m\u001b[0m\u001b[0;34m\u001b[0m\u001b[0m\n\u001b[1;32m    405\u001b[0m             \u001b[0mstdout\u001b[0m\u001b[0;34m,\u001b[0m \u001b[0mstderr\u001b[0m \u001b[0;34m=\u001b[0m \u001b[0mprocess\u001b[0m\u001b[0;34m.\u001b[0m\u001b[0mcommunicate\u001b[0m\u001b[0;34m(\u001b[0m\u001b[0minput\u001b[0m\u001b[0;34m,\u001b[0m \u001b[0mtimeout\u001b[0m\u001b[0;34m=\u001b[0m\u001b[0mtimeout\u001b[0m\u001b[0;34m)\u001b[0m\u001b[0;34m\u001b[0m\u001b[0;34m\u001b[0m\u001b[0m\n",
      "\u001b[0;32m/usr/lib/python3.6/subprocess.py\u001b[0m in \u001b[0;36m__init__\u001b[0;34m(self, args, bufsize, executable, stdin, stdout, stderr, preexec_fn, close_fds, shell, cwd, env, universal_newlines, startupinfo, creationflags, restore_signals, start_new_session, pass_fds, encoding, errors)\u001b[0m\n\u001b[1;32m    707\u001b[0m                                 \u001b[0mc2pread\u001b[0m\u001b[0;34m,\u001b[0m \u001b[0mc2pwrite\u001b[0m\u001b[0;34m,\u001b[0m\u001b[0;34m\u001b[0m\u001b[0;34m\u001b[0m\u001b[0m\n\u001b[1;32m    708\u001b[0m                                 \u001b[0merrread\u001b[0m\u001b[0;34m,\u001b[0m \u001b[0merrwrite\u001b[0m\u001b[0;34m,\u001b[0m\u001b[0;34m\u001b[0m\u001b[0;34m\u001b[0m\u001b[0m\n\u001b[0;32m--> 709\u001b[0;31m                                 restore_signals, start_new_session)\n\u001b[0m\u001b[1;32m    710\u001b[0m         \u001b[0;32mexcept\u001b[0m\u001b[0;34m:\u001b[0m\u001b[0;34m\u001b[0m\u001b[0;34m\u001b[0m\u001b[0m\n\u001b[1;32m    711\u001b[0m             \u001b[0;31m# Cleanup if the child failed starting.\u001b[0m\u001b[0;34m\u001b[0m\u001b[0;34m\u001b[0m\u001b[0;34m\u001b[0m\u001b[0m\n",
      "\u001b[0;32m/usr/lib/python3.6/subprocess.py\u001b[0m in \u001b[0;36m_execute_child\u001b[0;34m(self, args, executable, preexec_fn, close_fds, pass_fds, cwd, env, startupinfo, creationflags, shell, p2cread, p2cwrite, c2pread, c2pwrite, errread, errwrite, restore_signals, start_new_session)\u001b[0m\n\u001b[1;32m   1342\u001b[0m                         \u001b[0;32mif\u001b[0m \u001b[0merrno_num\u001b[0m \u001b[0;34m==\u001b[0m \u001b[0merrno\u001b[0m\u001b[0;34m.\u001b[0m\u001b[0mENOENT\u001b[0m\u001b[0;34m:\u001b[0m\u001b[0;34m\u001b[0m\u001b[0;34m\u001b[0m\u001b[0m\n\u001b[1;32m   1343\u001b[0m                             \u001b[0merr_msg\u001b[0m \u001b[0;34m+=\u001b[0m \u001b[0;34m': '\u001b[0m \u001b[0;34m+\u001b[0m \u001b[0mrepr\u001b[0m\u001b[0;34m(\u001b[0m\u001b[0merr_filename\u001b[0m\u001b[0;34m)\u001b[0m\u001b[0;34m\u001b[0m\u001b[0;34m\u001b[0m\u001b[0m\n\u001b[0;32m-> 1344\u001b[0;31m                     \u001b[0;32mraise\u001b[0m \u001b[0mchild_exception_type\u001b[0m\u001b[0;34m(\u001b[0m\u001b[0merrno_num\u001b[0m\u001b[0;34m,\u001b[0m \u001b[0merr_msg\u001b[0m\u001b[0;34m,\u001b[0m \u001b[0merr_filename\u001b[0m\u001b[0;34m)\u001b[0m\u001b[0;34m\u001b[0m\u001b[0;34m\u001b[0m\u001b[0m\n\u001b[0m\u001b[1;32m   1345\u001b[0m                 \u001b[0;32mraise\u001b[0m \u001b[0mchild_exception_type\u001b[0m\u001b[0;34m(\u001b[0m\u001b[0merr_msg\u001b[0m\u001b[0;34m)\u001b[0m\u001b[0;34m\u001b[0m\u001b[0;34m\u001b[0m\u001b[0m\n\u001b[1;32m   1346\u001b[0m \u001b[0;34m\u001b[0m\u001b[0m\n",
      "\u001b[0;31mFileNotFoundError\u001b[0m: [Errno 2] No such file or directory: 'slic3r --nozzle-diameter 0.1 ./stl_files/largecube.stl': 'slic3r --nozzle-diameter 0.1 ./stl_files/largecube.stl'"
     ]
    }
   ],
   "source": [
    "import itertools as it\n",
    "import numpy as np\n",
    "import pandas as pd\n",
    "from subprocess import check_output,CalledProcessError\n",
    "\n",
    "\"\"\"\n",
    "this script automates the process of slicing the same stl file with many possible combinations of command line arguments \n",
    "that can be passed to slic3r\n",
    "\"\"\"\n",
    "\n",
    "#dict of lists of possible arguments to be tested\n",
    "configurations = {\"--nozzle-diameter\":[0.1,\n",
    "                                       0.5,\n",
    "                                       1.0\n",
    "                                      ],                  \n",
    "                  #\"--use-firmware-retraction\":[\"no\",\"yes\"],\n",
    "                  #\"--use-volumetric-e\":[\"no\",\"yes\"], \n",
    "                  #\"--gcode-arcs\":[\"no\",\"yes\"], \n",
    "                  #\"--vibration-limit\":[0,5,10], \n",
    "                  #\"--pressure-advance\":[], \n",
    "                  #\"--filament-diameter\":[],\n",
    "                  #\"--extrusion-multiplier\":[],\n",
    "                  #\"--temperature\":[],\n",
    "                  #\"--first-layer-temperature\":[],\n",
    "                  #\"--bed-temperature\":[],\n",
    "                  #\"--first-layer-bed-temperature\":[],\n",
    "                  #\"--travel-speed\":[], \n",
    "                  #\"--perimeter-speed\":[], \n",
    "                  #\"--small-perimeter-speed\":[], \n",
    "                  #\"--external-perimeter-speed\":[], \n",
    "                  #\"--infill-speed\":[], \n",
    "                  #\"--solid-infill-speed\":[], \n",
    "                  #\"--top-solid-infill-speed\":[], \n",
    "                  #\"--support-material-speed\":[], \n",
    "                  #\"--support-material-interface-speed\":[], \n",
    "                  #\"--bridge-speed\":[], \n",
    "                  #\"--gap-fill-speed\":[], \n",
    "                  #\"--first-layer-speed\":[], \n",
    "                  #\"--perimeter-acceleration\":[],\n",
    "                  #\"--infill-acceleration\":[],\n",
    "                  #\"--bridge-acceleration\":[],\n",
    "                  #\"-first-layer-acceleration\":[],\n",
    "                  #\"--default-acceleration\":[],\n",
    "                  #\"--layer-height\":[],\n",
    "                  #\"--first-layer-height\":[],\n",
    "                  #\"--infill-every-layers\":[],\n",
    "                  #\"--solid-infill-every-layers\":[],\n",
    "                  #\"--perimeters\":[],\n",
    "                  #\"--top-solid-layers\":[],\n",
    "                  #\"--bottom-solid-layers\":[],\n",
    "                  #\"--solid-layers\":[],\n",
    "                  #\"--fill-density\":[],\n",
    "                  #\"--fill-angle\":[],\n",
    "                  #\"--fill-pattern\":[],\n",
    "                  #\"--external-fill-pattern\":[],                  \n",
    "                  #\"--end-gcode\":[],\n",
    "                  #\"--before-layer-gcode\":[],\n",
    "                  #\"--layer-gcode\":[],\n",
    "                  #\"--toolchange-gcode\":[],\n",
    "                  #\"--seam-position\":[],\n",
    "                  #\"--external-perimeters-first\":[],\n",
    "                  #\"--spiral-vase\":[],\n",
    "                  #\"--only-retract-when-crossing-perimeters\":[],\n",
    "                  #\"--solid-infill-below-area\":[],\n",
    "                  #\"--infill-only-where-needed\":[],\n",
    "                  #\"--infill-first\":[],\n",
    "                  #\"--extra-perimeters\":[],\n",
    "                  #\"--avoid-crossing-perimeters\":[],\n",
    "                  #\"--thin-walls\":[],\n",
    "                  #\"--overhangs\":[],\n",
    "                  #\"--support-material\":[],\n",
    "                  #\"--support-material-threshold\":[],\n",
    "                  #\"--support-material-pattern\":[],\n",
    "                  #\"--support-material-spacing\":[],\n",
    "                  #\"--support-material-angle\":[],\n",
    "                  #\"--support-material-contact-distance\":[],\n",
    "                  #\"--support-material-interface-layers\":[],\n",
    "                  #\"--support-material-interface-spacing\":[],\n",
    "                  #\"--raft-layers\":[],\n",
    "                  #\"--support-material-enforce-layers\":[],\n",
    "                  #\"--dont-support-bridges\":[],\n",
    "                  #\"--retract-length\":[],\n",
    "                  #\"--retract-speed\":[],\n",
    "                  #\"--retract-restart-extra\":[],\n",
    "                  #\"--retract-before-travel\":[],\n",
    "                  #\"--retract-lift\":[],\n",
    "                  #\"--retract-layer-change\":[],\n",
    "                  #\"--wipe\":[],\n",
    "                  #\"--cooling\":[],\n",
    "                  #\"--min-fan-speed\":[],\n",
    "                  #\"--max-fan-speed\":[],\n",
    "                  #\"--bridge-fan-speed\":[],\n",
    "                  #\"--fan-below-layer-time\":[],\n",
    "                  #\"--slowdown-below-layer-time\":[],\n",
    "                  #\"--min-print-speed\":[],\n",
    "                  #\"--disable-fan-first-layers\":[],\n",
    "                  #\"--fan-always-on\":[],\n",
    "                  #\"--skirts\":[],\n",
    "                  #\"--skirt-distance\":[],\n",
    "                  #\"--skirt-height\":[],\n",
    "                  #\"--min-skirt-length\":[],\n",
    "                  #\"--brim-width\":[],\n",
    "                  #\"--scale\":[],\n",
    "                  #\"--rotate\":[],\n",
    "                  #\"--duplicate\":[],\n",
    "                  #\"--duplicate-grid\":[],\n",
    "                  #\"--duplicate-distance\":[],\n",
    "                  #\"--xy-size-compensation\":[],\n",
    "                  #\"--complete-objects\":[],\n",
    "                  #\"--extruder-clearance-radius\":[],\n",
    "                  #\"--extruder-clearance-height\":[],\n",
    "                  #\"--notes\":[],\n",
    "                  #\"--resolution\":[],\n",
    "                  #\"--extrusion-width\":[],\n",
    "                  #\"--first-layer-extrusion-width\":[],\n",
    "                  #\"--perimeter-extrusion-width Set a different extrusion width for perimeters\":[],\n",
    "                  #\"--external-perimeter-extrusion-width\":[],\n",
    "                  #\"--infill-extrusion-width\":[],\n",
    "                  #\"--solid-infill-extrusion-width\":[],\n",
    "                  #\"--top-infill-extrusion-width\":[],\n",
    "                  #\"--support-material-extrusion-width\":[],\n",
    "                  #\"--infill-overlap\":[],\n",
    "                  #\"--bridge-flow-ratio Multiplier for extrusion when bridging (> 0, default: 1)\":[],\n",
    "                  #\"--extruder-offset\":[],\n",
    "                  #\"--perimeter-extruder\":[],\n",
    "                  #\"--infill-extruder\":[],\n",
    "                  #\"--solid-infill-extruder\":[],\n",
    "                  #\"--support-material-extruder\":[],\n",
    "                  #\"--support-material-interface-extruder Extruder to use for support material interface (1+, default: 1)\":[],\n",
    "                  #\"--ooze-prevention\":[],\n",
    "                  #\"--standby-temperature-delta\":[],\n",
    "                  #\"--ooze-prevention is enabled (default: -5)\":[], \n",
    "                  #\"--retract-length-toolchange\":[],\n",
    "                  #\"--retract-restart-extra-toolchange\":[]                  \n",
    "                 }\n",
    "\n",
    "\n",
    "combinations = it.product(*(configurations[Name] for Name in configurations))\n",
    "count=1\n",
    "total=len(list(combinations))\n",
    "#loop through every combination of arguments\n",
    "for configuration in list(it.product(*configurations.values())):\n",
    "    #construct a list of command line arguments   \n",
    "    \n",
    "    cmd=[]\n",
    "    for key,value in zip(configurations.keys(),configuration):\n",
    "      if value:\n",
    "        cmd.append(key)\n",
    "        cmd.append(value)\n",
    "        \n",
    "    print('%d out of %d' % (count,total))\n",
    "    cmd_str='slic3r'\n",
    "    for arg in cmd:\n",
    "      cmd_str += ' '+str(arg)\n",
    "      \n",
    "    cmd_str+=' ./stl_files/largecube.stl'\n",
    "    print(cmd_str)\n",
    "    \n",
    "    #run the command and error if the exit status is non-zero\n",
    "    check_output(cmd_str)\n",
    "    print('done')\n",
    "    count+=1\n"
   ]
  },
  {
   "cell_type": "code",
   "execution_count": 54,
   "metadata": {},
   "outputs": [
    {
     "data": {
      "text/plain": [
       "'/home/thom/PycharmProjects/optimization_of_3d_printable_objects'"
      ]
     },
     "execution_count": 54,
     "metadata": {},
     "output_type": "execute_result"
    }
   ],
   "source": [
    "os.getcwd()"
   ]
  },
  {
   "cell_type": "code",
   "execution_count": null,
   "metadata": {},
   "outputs": [],
   "source": []
  }
 ],
 "metadata": {
  "kernelspec": {
   "display_name": "Python 3",
   "language": "python",
   "name": "python3"
  },
  "language_info": {
   "codemirror_mode": {
    "name": "ipython",
    "version": 3
   },
   "file_extension": ".py",
   "mimetype": "text/x-python",
   "name": "python",
   "nbconvert_exporter": "python",
   "pygments_lexer": "ipython3",
   "version": "3.6.7"
  }
 },
 "nbformat": 4,
 "nbformat_minor": 2
}
