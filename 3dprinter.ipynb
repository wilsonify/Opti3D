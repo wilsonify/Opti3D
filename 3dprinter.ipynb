{
 "cells": [
  {
   "cell_type": "markdown",
   "metadata": {},
   "source": [
    "# 3D Printer DataSet for Mechanical Engineers"
   ]
  },
  {
   "cell_type": "markdown",
   "metadata": {},
   "source": [
    "Import Data"
   ]
  },
  {
   "cell_type": "code",
   "execution_count": 217,
   "metadata": {},
   "outputs": [],
   "source": [
    "import numpy as np\n",
    "import pandas as pd\n",
    "import pandashelpers\n",
    "import sklearn\n",
    "from sklearn.ensemble import RandomForestRegressor\n",
    "from sklearn.linear_model import LinearRegression\n",
    "from scipy.optimize import rosen, differential_evolution\n",
    "import seaborn as sns\n",
    "from matplotlib import pyplot as plt\n"
   ]
  },
  {
   "cell_type": "code",
   "execution_count": 16,
   "metadata": {},
   "outputs": [],
   "source": [
    "plt.rcParams.update({'font.size': 22})"
   ]
  },
  {
   "cell_type": "code",
   "execution_count": 17,
   "metadata": {},
   "outputs": [],
   "source": [
    "data = pd.read_csv(\"data.csv\").clean_column_names()"
   ]
  },
  {
   "cell_type": "code",
   "execution_count": 18,
   "metadata": {},
   "outputs": [
    {
     "name": "stdout",
     "output_type": "stream",
     "text": [
      "<class 'pandas.core.frame.DataFrame'>\n",
      "RangeIndex: 50 entries, 0 to 49\n",
      "Data columns (total 12 columns):\n",
      "layer_height          50 non-null float64\n",
      "wall_thickness        50 non-null int64\n",
      "infill_density        50 non-null int64\n",
      "infill_pattern        50 non-null object\n",
      "nozzle_temperature    50 non-null int64\n",
      "bed_temperature       50 non-null int64\n",
      "print_speed           50 non-null int64\n",
      "material              50 non-null object\n",
      "fan_speed             50 non-null int64\n",
      "roughness             50 non-null int64\n",
      "tension_strength      50 non-null int64\n",
      "elongation            50 non-null float64\n",
      "dtypes: float64(2), int64(8), object(2)\n",
      "memory usage: 4.8+ KB\n"
     ]
    }
   ],
   "source": [
    "data.info()"
   ]
  },
  {
   "cell_type": "code",
   "execution_count": 19,
   "metadata": {},
   "outputs": [
    {
     "name": "stdout",
     "output_type": "stream",
     "text": [
      "layer_height\n",
      "[0.02, 0.06, 0.1, 0.15, 0.2]\n",
      "wall_thickness\n",
      "[1, 2, 3, 4, 5, 6, 7, 8, 9, 10]\n",
      "infill_density\n",
      "[10, 20, 30, 40, 50, 60, 70, 80, 90]\n",
      "infill_pattern\n",
      "['grid', 'honeycomb']\n",
      "nozzle_temperature\n",
      "[200, 205, 210, 215, 220, 225, 230, 240, 250]\n",
      "bed_temperature\n",
      "[60, 65, 70, 75, 80]\n",
      "print_speed\n",
      "[40, 60, 120]\n",
      "material\n",
      "['abs', 'pla']\n",
      "fan_speed\n",
      "[0, 25, 50, 75, 100]\n",
      "roughness\n",
      "[21, 24, 25, 30, 32, 40, 55, 60, 68, 74, 75, 88, 92, 118, 120, 121, 126, 128, 138, 144, 145, 154, 163, 168, 172, 176, 180, 192, 200, 212, 220, 225, 244, 265, 276, 278, 289, 298, 312, 321, 326, 357, 360, 368]\n",
      "tension_strength\n",
      "[4, 5, 8, 9, 10, 11, 12, 13, 14, 16, 18, 19, 21, 22, 23, 24, 25, 26, 27, 28, 29, 30, 33, 34, 35, 37]\n",
      "elongation\n",
      "[0.4, 0.5, 0.6, 0.7, 0.8, 0.9, 1.0, 1.1, 1.2, 1.3, 1.4, 1.5, 1.6, 1.7, 1.8, 1.9, 2.0, 2.1, 2.2, 2.3, 2.4, 2.7, 2.8, 2.9, 3.1, 3.2, 3.3]\n"
     ]
    }
   ],
   "source": [
    "for column in data.columns:\n",
    "    print(column)\n",
    "    print(sorted(data[column].unique()))"
   ]
  },
  {
   "cell_type": "code",
   "execution_count": 202,
   "metadata": {},
   "outputs": [],
   "source": [
    "important_features = ['layer_height',\n",
    "                      'infill_density',\n",
    "                      'nozzle_temperature',\n",
    "                      'wall_thickness'\n",
    "                     ]"
   ]
  },
  {
   "cell_type": "code",
   "execution_count": 25,
   "metadata": {},
   "outputs": [],
   "source": [
    "y = data[data.columns.intersection(['tension_strength'])]\n",
    "#x = data[data.columns.difference(['tension_strength','elongation','roughness'])]\n",
    "x = data[important_features]\n",
    "x_numeric=x.select_dtypes(include=np.number)\n",
    "x_nonnumeric=x.select_dtypes(exclude=np.number)\n",
    "#x = pd.get_dummies(x_nonnumeric).join(x_numeric)"
   ]
  },
  {
   "cell_type": "code",
   "execution_count": null,
   "metadata": {},
   "outputs": [],
   "source": []
  },
  {
   "cell_type": "code",
   "execution_count": 26,
   "metadata": {},
   "outputs": [
    {
     "data": {
      "text/plain": [
       "LinearRegression(copy_X=True, fit_intercept=True, n_jobs=1, normalize=False)"
      ]
     },
     "execution_count": 26,
     "metadata": {},
     "output_type": "execute_result"
    }
   ],
   "source": [
    "strength_regressor_rf = RandomForestRegressor()\n",
    "strength_regressor_rf.fit(x,y.values.reshape(-1))\n",
    "\n",
    "strength_regressor_linear = LinearRegression()\n",
    "strength_regressor_linear.fit(x,y.values.reshape(-1))"
   ]
  },
  {
   "cell_type": "code",
   "execution_count": 27,
   "metadata": {},
   "outputs": [],
   "source": [
    "feature_importance = pd.concat([pd.Series(strength_regressor_rf.feature_importances_,name='importance'),\n",
    "                                pd.Series(x.columns,name='feature')\n",
    "                               ],axis=1\n",
    "                              ).sort_values('importance')"
   ]
  },
  {
   "cell_type": "code",
   "execution_count": 28,
   "metadata": {},
   "outputs": [
    {
     "data": {
      "text/plain": [
       "Text(0.5,1,'Tensile Strength')"
      ]
     },
     "execution_count": 28,
     "metadata": {},
     "output_type": "execute_result"
    },
    {
     "data": {
      "image/png": "[encoded data removed]",
      "text/plain": [
       "<Figure size 576x576 with 1 Axes>"
      ]
     },
     "metadata": {
      "needs_background": "light"
     },
     "output_type": "display_data"
    }
   ],
   "source": [
    "fig,ax = plt.subplots(nrows=1,ncols=1,figsize=(8,8))\n",
    "feature_importance.plot.barh(x='feature',\n",
    "                             y='importance',\n",
    "                             color='grey',\n",
    "                             legend=False,\n",
    "                             ax = ax\n",
    "                             )\n",
    "ax.set_xlabel('relative importance')\n",
    "ax.set_ylabel('')\n",
    "ax.set_title('Tensile Strength')"
   ]
  },
  {
   "cell_type": "code",
   "execution_count": 29,
   "metadata": {},
   "outputs": [
    {
     "data": {
      "text/plain": [
       "0          layer_height\n",
       "1        infill_density\n",
       "3        wall_thickness\n",
       "2    nozzle_temperature\n",
       "Name: feature, dtype: object"
      ]
     },
     "execution_count": 29,
     "metadata": {},
     "output_type": "execute_result"
    }
   ],
   "source": [
    "feature_importance['feature']"
   ]
  },
  {
   "cell_type": "code",
   "execution_count": 30,
   "metadata": {},
   "outputs": [],
   "source": [
    "#sns.pairplot(x.join(y))\n",
    "#sns.heatmap(np.corrcoef(x.join(y)))"
   ]
  },
  {
   "cell_type": "code",
   "execution_count": 31,
   "metadata": {},
   "outputs": [
    {
     "data": {
      "text/plain": [
       "<matplotlib.axes._subplots.AxesSubplot at 0x7f92c7886c18>"
      ]
     },
     "execution_count": 31,
     "metadata": {},
     "output_type": "execute_result"
    },
    {
     "data": {
      "image/png": "[encoded data removed]",
      "text/plain": [
       "<Figure size 432x288 with 1 Axes>"
      ]
     },
     "metadata": {
      "needs_background": "light"
     },
     "output_type": "display_data"
    }
   ],
   "source": [
    "pd.concat([pd.Series(strength_regressor_rf.predict(x),name='predicted'),\n",
    "           pd.Series(y.values.reshape(-1),name='actual')\n",
    "          ],axis=1\n",
    "         ).plot.scatter(x='actual',y='predicted',title='Tensile Strength (MPa)')\n",
    "  "
   ]
  },
  {
   "cell_type": "code",
   "execution_count": 32,
   "metadata": {},
   "outputs": [
    {
     "data": {
      "text/plain": [
       "<matplotlib.axes._subplots.AxesSubplot at 0x7f92c76d3dd8>"
      ]
     },
     "execution_count": 32,
     "metadata": {},
     "output_type": "execute_result"
    },
    {
     "data": {
      "image/png": "[encoded data removed]",
      "text/plain": [
       "<Figure size 432x288 with 1 Axes>"
      ]
     },
     "metadata": {
      "needs_background": "light"
     },
     "output_type": "display_data"
    }
   ],
   "source": [
    "pd.concat([pd.Series(strength_regressor_linear.predict(x),name='predicted'),\n",
    "           pd.Series(y.values.reshape(-1),name='actual')\n",
    "          ],axis=1\n",
    "         ).plot.scatter(x='actual',y='predicted')"
   ]
  },
  {
   "cell_type": "code",
   "execution_count": 33,
   "metadata": {},
   "outputs": [],
   "source": [
    "metadata = pd.read_csv('metadata.csv')"
   ]
  },
  {
   "cell_type": "code",
   "execution_count": 34,
   "metadata": {},
   "outputs": [
    {
     "name": "stdout",
     "output_type": "stream",
     "text": [
      "<class 'pandas.core.frame.DataFrame'>\n",
      "RangeIndex: 768 entries, 0 to 767\n",
      "Columns: 145 entries, Unnamed: 0 to z_offset \n",
      "dtypes: float64(19), int64(102), object(24)\n",
      "memory usage: 870.1+ KB\n"
     ]
    }
   ],
   "source": [
    "metadata.info()"
   ]
  },
  {
   "cell_type": "code",
   "execution_count": 35,
   "metadata": {},
   "outputs": [
    {
     "data": {
      "text/plain": [
       "Index(['Unnamed: 0', '--fill-angle', '--fill-density', '--fill-pattern',\n",
       "       '--infill-every-layers', '--layer-height', '--perimeters',\n",
       "       '--solid-infill-speed', '--solid-layers', '--temperature',\n",
       "       ...\n",
       "       'top_solid_infill_speed ', 'top_solid_layers ', 'travel_speed ',\n",
       "       'use_firmware_retraction ', 'use_relative_e_distances ',\n",
       "       'use_volumetric_e ', 'vibration_limit ', 'wipe ',\n",
       "       'xy_size_compensation ', 'z_offset '],\n",
       "      dtype='object', length=145)"
      ]
     },
     "execution_count": 35,
     "metadata": {},
     "output_type": "execute_result"
    }
   ],
   "source": [
    "metadata.columns"
   ]
  },
  {
   "cell_type": "code",
   "execution_count": null,
   "metadata": {},
   "outputs": [],
   "source": []
  },
  {
   "cell_type": "code",
   "execution_count": 36,
   "metadata": {},
   "outputs": [],
   "source": [
    "strenth_controllable_parameters = ['--layer-height',\n",
    "                           '--fill-density',\n",
    "                           '--temperature',\n",
    "                           '--solid-layers'\n",
    "                          ]"
   ]
  },
  {
   "cell_type": "code",
   "execution_count": 54,
   "metadata": {},
   "outputs": [],
   "source": [
    "newx = metadata[controllable_parameters]"
   ]
  },
  {
   "cell_type": "code",
   "execution_count": null,
   "metadata": {},
   "outputs": [],
   "source": []
  },
  {
   "cell_type": "code",
   "execution_count": 38,
   "metadata": {},
   "outputs": [],
   "source": [
    "#sns.pairplot(newx)"
   ]
  },
  {
   "cell_type": "code",
   "execution_count": 39,
   "metadata": {},
   "outputs": [],
   "source": [
    "tensile = strength_regressor_rf.predict(newx)\n",
    "tensile_series = pd.Series(tensile,name='tensile_strength_predicted')"
   ]
  },
  {
   "cell_type": "code",
   "execution_count": 40,
   "metadata": {},
   "outputs": [
    {
     "data": {
      "text/plain": [
       "<matplotlib.axes._subplots.AxesSubplot at 0x7f92c7739198>"
      ]
     },
     "execution_count": 40,
     "metadata": {},
     "output_type": "execute_result"
    },
    {
     "data": {
      "image/png": "[encoded data removed]",
      "text/plain": [
       "<Figure size 432x288 with 1 Axes>"
      ]
     },
     "metadata": {
      "needs_background": "light"
     },
     "output_type": "display_data"
    }
   ],
   "source": [
    "tensile_series.plot.hist()"
   ]
  },
  {
   "cell_type": "code",
   "execution_count": 41,
   "metadata": {},
   "outputs": [],
   "source": [
    "metadata_enriched = metadata.join(tensile_series)"
   ]
  },
  {
   "cell_type": "code",
   "execution_count": 42,
   "metadata": {},
   "outputs": [],
   "source": [
    "filament = metadata['filament used '].str.strip(' ')\\\n",
    "                                    .str.split(' ',expand=True)\\\n",
    "                                    .rename(columns={0:'filament_used_mm',\n",
    "                                                     1:'filament_used_cm3'\n",
    "                                                    }\n",
    "                                           )\n"
   ]
  },
  {
   "cell_type": "code",
   "execution_count": 43,
   "metadata": {},
   "outputs": [],
   "source": [
    "metadata_enriched['filament_used_mm'] = filament['filament_used_mm']\\\n",
    ".str.replace('mm','')\\\n",
    ".apply(float)\n",
    "\n",
    "metadata_enriched['filament_used_cm3'] = filament['filament_used_cm3']\\\n",
    ".str.strip('()')\\\n",
    ".str.replace('cm3','')                                                             .apply(float)"
   ]
  },
  {
   "cell_type": "code",
   "execution_count": 140,
   "metadata": {},
   "outputs": [],
   "source": [
    "metadata_enriched['infill extrusion width (mm)'] = metadata['infill extrusion width '].str.replace('mm','').apply(float)"
   ]
  },
  {
   "cell_type": "code",
   "execution_count": 141,
   "metadata": {},
   "outputs": [
    {
     "name": "stderr",
     "output_type": "stream",
     "text": [
      "/usr/local/lib/python3.6/dist-packages/scipy/stats/stats.py:1706: FutureWarning: Using a non-tuple sequence for multidimensional indexing is deprecated; use `arr[tuple(seq)]` instead of `arr[seq]`. In the future this will be interpreted as an array index, `arr[np.array(seq)]`, which will result either in an error or a different result.\n",
      "  return np.add.reduce(sorted[indexer] * weights, axis=axis) / sumval\n"
     ]
    },
    {
     "data": {
      "text/plain": [
       "Text(26.885,0.5,'tensile strength (MPa)')"
      ]
     },
     "execution_count": 141,
     "metadata": {},
     "output_type": "execute_result"
    },
    {
     "data": {
      "image/png": "[encoded data removed]",
      "text/plain": [
       "<Figure size 360x360 with 1 Axes>"
      ]
     },
     "metadata": {
      "needs_background": "light"
     },
     "output_type": "display_data"
    }
   ],
   "source": [
    "fg = sns.lmplot(x='filament_used_cm3',\n",
    "           y='tensile_strength_predicted',\n",
    "           #hue='--layer-height',        \n",
    "           data=metadata_enriched           \n",
    "          )\n",
    "fg.axes[0,0].set_xlabel('filament used ($cm^3$)')\n",
    "fg.axes[0,0].set_ylabel('tensile strength (MPa)')"
   ]
  },
  {
   "cell_type": "code",
   "execution_count": 198,
   "metadata": {},
   "outputs": [],
   "source": [
    "\n",
    "filament_controllable_parameters = ['--infill-every-layers',\n",
    "                                    '--fill-density',\n",
    "                                    '--layer-height',                                    \n",
    "                                   ]"
   ]
  },
  {
   "cell_type": "code",
   "execution_count": null,
   "metadata": {},
   "outputs": [],
   "source": []
  },
  {
   "cell_type": "code",
   "execution_count": 206,
   "metadata": {},
   "outputs": [],
   "source": [
    "#metadata['layer_height ']\n",
    "y = metadata_enriched[metadata_enriched.columns.intersection(['filament_used_cm3'])]\n",
    "\"\"\"\n",
    "x = metadata_enriched[metadata_enriched.columns.difference(['filament_used_cm3',\n",
    "                                                            'filament used ',\n",
    "                                                            'filament_used_mm',\n",
    "                                                            'Unnamed: 0',\n",
    "                                                            'fill_density ',\n",
    "                                                            'infill_every_layers ',\n",
    "                                                            'output_filename_format ',\n",
    "                                                            'fill_pattern ',\n",
    "                                                            'layer_height '\n",
    "                                                           ])]\n",
    "x_numeric = x.select_dtypes(include=np.number)\n",
    "x_non_numeric = x.select_dtypes(exclude=np.number)\n",
    "x = pd.get_dummies(x_non_numeric).join(x_numeric)\n",
    "x = x.loc[:,x.var()!=0].dropna(1)\n",
    "\"\"\"\n",
    "x = metadata_enriched[filament_controllable_parameters]\n"
   ]
  },
  {
   "cell_type": "code",
   "execution_count": 207,
   "metadata": {},
   "outputs": [
    {
     "data": {
      "text/plain": [
       "<matplotlib.axes._subplots.AxesSubplot at 0x7f92bc0a5898>"
      ]
     },
     "execution_count": 207,
     "metadata": {},
     "output_type": "execute_result"
    },
    {
     "data": {
      "image/png": "[encoded data removed]",
      "text/plain": [
       "<Figure size 432x288 with 1 Axes>"
      ]
     },
     "metadata": {
      "needs_background": "light"
     },
     "output_type": "display_data"
    }
   ],
   "source": [
    "y.plot.hist(legend=False)"
   ]
  },
  {
   "cell_type": "code",
   "execution_count": 208,
   "metadata": {},
   "outputs": [],
   "source": [
    "filament_regressor_rf = RandomForestRegressor()\n",
    "filament_regressor_linear = LinearRegression()"
   ]
  },
  {
   "cell_type": "code",
   "execution_count": 209,
   "metadata": {},
   "outputs": [
    {
     "data": {
      "text/plain": [
       "RandomForestRegressor(bootstrap=True, criterion='mse', max_depth=None,\n",
       "           max_features='auto', max_leaf_nodes=None,\n",
       "           min_impurity_decrease=0.0, min_impurity_split=None,\n",
       "           min_samples_leaf=1, min_samples_split=2,\n",
       "           min_weight_fraction_leaf=0.0, n_estimators=10, n_jobs=1,\n",
       "           oob_score=False, random_state=None, verbose=0, warm_start=False)"
      ]
     },
     "execution_count": 209,
     "metadata": {},
     "output_type": "execute_result"
    }
   ],
   "source": [
    "filament_regressor_rf.fit(x,y.values.reshape(-1))\n",
    "#filament_regressor_linear.fit(x_numeric.dropna(1),y)"
   ]
  },
  {
   "cell_type": "code",
   "execution_count": 210,
   "metadata": {},
   "outputs": [],
   "source": [
    "feature_importance = pd.concat([pd.Series(filament_regressor_rf.feature_importances_,name='importance'),\n",
    "                                pd.Series(x.columns,name='feature')\n",
    "                               ],axis=1\n",
    "                              ).sort_values('importance')"
   ]
  },
  {
   "cell_type": "code",
   "execution_count": 211,
   "metadata": {},
   "outputs": [
    {
     "data": {
      "text/html": [
       "<div>\n",
       "<style scoped>\n",
       "    .dataframe tbody tr th:only-of-type {\n",
       "        vertical-align: middle;\n",
       "    }\n",
       "\n",
       "    .dataframe tbody tr th {\n",
       "        vertical-align: top;\n",
       "    }\n",
       "\n",
       "    .dataframe thead th {\n",
       "        text-align: right;\n",
       "    }\n",
       "</style>\n",
       "<table border=\"1\" class=\"dataframe\">\n",
       "  <thead>\n",
       "    <tr style=\"text-align: right;\">\n",
       "      <th></th>\n",
       "      <th>importance</th>\n",
       "      <th>feature</th>\n",
       "    </tr>\n",
       "  </thead>\n",
       "  <tbody>\n",
       "    <tr>\n",
       "      <th>2</th>\n",
       "      <td>0.087038</td>\n",
       "      <td>--layer-height</td>\n",
       "    </tr>\n",
       "    <tr>\n",
       "      <th>1</th>\n",
       "      <td>0.443514</td>\n",
       "      <td>--fill-density</td>\n",
       "    </tr>\n",
       "    <tr>\n",
       "      <th>0</th>\n",
       "      <td>0.469449</td>\n",
       "      <td>--infill-every-layers</td>\n",
       "    </tr>\n",
       "  </tbody>\n",
       "</table>\n",
       "</div>"
      ],
      "text/plain": [
       "   importance                feature\n",
       "2    0.087038         --layer-height\n",
       "1    0.443514         --fill-density\n",
       "0    0.469449  --infill-every-layers"
      ]
     },
     "execution_count": 211,
     "metadata": {},
     "output_type": "execute_result"
    }
   ],
   "source": [
    "feature_importance.dropna()"
   ]
  },
  {
   "cell_type": "code",
   "execution_count": 212,
   "metadata": {},
   "outputs": [
    {
     "data": {
      "text/plain": [
       "Text(0.5,1,'Filament Usage')"
      ]
     },
     "execution_count": 212,
     "metadata": {},
     "output_type": "execute_result"
    },
    {
     "data": {
      "image/png": "[encoded data removed]",
      "text/plain": [
       "<Figure size 576x576 with 1 Axes>"
      ]
     },
     "metadata": {
      "needs_background": "light"
     },
     "output_type": "display_data"
    }
   ],
   "source": [
    "fig,ax = plt.subplots(nrows=1,ncols=1,figsize=(8,8))\n",
    "\n",
    "feature_importance.dropna()[-10:].plot.barh(x='feature',\n",
    "                                            y='importance',\n",
    "                                            color='grey',\n",
    "                                            legend=False,\n",
    "                                            ax=ax\n",
    "                                           )\n",
    "\n",
    "\n",
    "ax.set_xlabel('relative importance')\n",
    "ax.set_ylabel('')\n",
    "ax.set_title('Filament Usage')"
   ]
  },
  {
   "cell_type": "code",
   "execution_count": 227,
   "metadata": {},
   "outputs": [],
   "source": [
    "def cost_function(input_array):\n",
    "    \n",
    "    \n",
    "    \"\"\"\n",
    "    layer_height,\n",
    "    fill_densiy,\n",
    "    infill_every_layers,\n",
    "    wall_thickness,\n",
    "    nozzle_temperature\n",
    "    \"\"\"\n",
    "    (layer_height,\n",
    "    fill_densiy,\n",
    "    infill_every_layers,\n",
    "    wall_thickness,\n",
    "    nozzle_temperature) = input_array\n",
    "    \n",
    "    x_strength = pd.Series({'layer_height':layer_height,\n",
    "                  'fill_densiy':fill_densiy,\n",
    "                  'wall_thickness':wall_thickness,\n",
    "                  'nozzle_temperature':nozzle_temperature}\n",
    "                          )\n",
    "    \n",
    "    x_filament = pd.Series({'layer_height':layer_height,\n",
    "                  'fill_densiy':fill_densiy,\n",
    "                  'infill_every_layers':infill_every_layers,                  \n",
    "                  })\n",
    "    \n",
    "    strength = strength_regressor_rf.predict(x_strength.values.reshape(1, -1))\n",
    "    filament = filament_regressor_rf.predict(x_filament.values.reshape(1, -1))\n",
    "    \n",
    "    return (0.5)*filament + (-0.5)*strength\n",
    "    "
   ]
  },
  {
   "cell_type": "code",
   "execution_count": 228,
   "metadata": {},
   "outputs": [],
   "source": [
    "strength_controllable_parameters = ['--layer-height',\n",
    "                                    '--fill-density',\n",
    "                                    '--temperature',\n",
    "                                    '--solid-layers'\n",
    "                                   ]"
   ]
  },
  {
   "cell_type": "code",
   "execution_count": 229,
   "metadata": {},
   "outputs": [
    {
     "data": {
      "text/plain": [
       "--infill-every-layers     1.00\n",
       "--fill-density           10.00\n",
       "--layer-height            0.02\n",
       "Name: 0, dtype: float64"
      ]
     },
     "execution_count": 229,
     "metadata": {},
     "output_type": "execute_result"
    }
   ],
   "source": [
    "x.loc[0,filament_controllable_parameters]\n",
    "#x.loc[0,strength_controllable_parameters]"
   ]
  },
  {
   "cell_type": "code",
   "execution_count": 232,
   "metadata": {},
   "outputs": [
    {
     "data": {
      "text/plain": [
       "array([13.20053694])"
      ]
     },
     "execution_count": 232,
     "metadata": {},
     "output_type": "execute_result"
    }
   ],
   "source": [
    "cost_function(np.array([0.02,10.00,1,1,200]))"
   ]
  },
  {
   "cell_type": "code",
   "execution_count": 233,
   "metadata": {},
   "outputs": [
    {
     "name": "stdout",
     "output_type": "stream",
     "text": [
      "[1.96818295e-01 4.46246719e+01 9.36452227e+00 8.86278194e+00\n",
      " 2.25957548e+02] 9.90053694434424\n"
     ]
    }
   ],
   "source": [
    "bounds = [(0.02, 0.2), #layer_height\n",
    "          (10, 90), #fill_density\n",
    "          (1, 10), #infill_every_layers\n",
    "          (1, 10), #wall_thickness\n",
    "          (200, 250)  #nozzle_temperature\n",
    "         ]\n",
    "result = differential_evolution(cost_function, bounds)\n",
    "print(result.x, result.fun)"
   ]
  },
  {
   "cell_type": "code",
   "execution_count": null,
   "metadata": {},
   "outputs": [],
   "source": []
  },
  {
   "cell_type": "code",
   "execution_count": null,
   "metadata": {},
   "outputs": [],
   "source": []
  }
 ],
 "metadata": {
  "kernelspec": {
   "display_name": "Python 3",
   "language": "python",
   "name": "python3"
  },
  "language_info": {
   "codemirror_mode": {
    "name": "ipython",
    "version": 3
   },
   "file_extension": ".py",
   "mimetype": "text/x-python",
   "name": "python",
   "nbconvert_exporter": "python",
   "pygments_lexer": "ipython3",
   "version": "3.6.7"
  }
 },
 "nbformat": 4,
 "nbformat_minor": 2
}
