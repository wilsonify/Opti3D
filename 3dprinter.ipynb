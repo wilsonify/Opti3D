{
 "cells": [
  {
   "cell_type": "markdown",
   "metadata": {},
   "source": [
    "# 3D Printer DataSet for Mechanical Engineers"
   ]
  },
  {
   "cell_type": "markdown",
   "metadata": {},
   "source": [
    "Import Data"
   ]
  },
  {
   "cell_type": "code",
   "execution_count": 1,
   "metadata": {},
   "outputs": [
    {
     "name": "stderr",
     "output_type": "stream",
     "text": [
      "/home/thom/.local/lib/python3.6/site-packages/sklearn/ensemble/weight_boosting.py:29: DeprecationWarning: numpy.core.umath_tests is an internal NumPy module and should not be imported. It will be removed in a future NumPy release.\n",
      "  from numpy.core.umath_tests import inner1d\n"
     ]
    }
   ],
   "source": [
    "import numpy as np\n",
    "import pandas as pd\n",
    "import pandashelpers\n",
    "import sklearn\n",
    "from sklearn.ensemble import RandomForestRegressor\n",
    "from sklearn.linear_model import LinearRegression\n",
    "import seaborn as sns"
   ]
  },
  {
   "cell_type": "code",
   "execution_count": 2,
   "metadata": {},
   "outputs": [],
   "source": [
    "data = pd.read_csv(\"data.csv\").clean_column_names()"
   ]
  },
  {
   "cell_type": "code",
   "execution_count": 3,
   "metadata": {},
   "outputs": [
    {
     "name": "stdout",
     "output_type": "stream",
     "text": [
      "<class 'pandas.core.frame.DataFrame'>\n",
      "RangeIndex: 50 entries, 0 to 49\n",
      "Data columns (total 12 columns):\n",
      "layer_height          50 non-null float64\n",
      "wall_thickness        50 non-null int64\n",
      "infill_density        50 non-null int64\n",
      "infill_pattern        50 non-null object\n",
      "nozzle_temperature    50 non-null int64\n",
      "bed_temperature       50 non-null int64\n",
      "print_speed           50 non-null int64\n",
      "material              50 non-null object\n",
      "fan_speed             50 non-null int64\n",
      "roughness             50 non-null int64\n",
      "tension_strength      50 non-null int64\n",
      "elongation            50 non-null float64\n",
      "dtypes: float64(2), int64(8), object(2)\n",
      "memory usage: 4.8+ KB\n"
     ]
    }
   ],
   "source": [
    "data.info()"
   ]
  },
  {
   "cell_type": "code",
   "execution_count": 4,
   "metadata": {},
   "outputs": [
    {
     "name": "stdout",
     "output_type": "stream",
     "text": [
      "layer_height\n",
      "[0.02, 0.06, 0.1, 0.15, 0.2]\n",
      "wall_thickness\n",
      "[1, 2, 3, 4, 5, 6, 7, 8, 9, 10]\n",
      "infill_density\n",
      "[10, 20, 30, 40, 50, 60, 70, 80, 90]\n",
      "infill_pattern\n",
      "['grid', 'honeycomb']\n",
      "nozzle_temperature\n",
      "[200, 205, 210, 215, 220, 225, 230, 240, 250]\n",
      "bed_temperature\n",
      "[60, 65, 70, 75, 80]\n",
      "print_speed\n",
      "[40, 60, 120]\n",
      "material\n",
      "['abs', 'pla']\n",
      "fan_speed\n",
      "[0, 25, 50, 75, 100]\n",
      "roughness\n",
      "[21, 24, 25, 30, 32, 40, 55, 60, 68, 74, 75, 88, 92, 118, 120, 121, 126, 128, 138, 144, 145, 154, 163, 168, 172, 176, 180, 192, 200, 212, 220, 225, 244, 265, 276, 278, 289, 298, 312, 321, 326, 357, 360, 368]\n",
      "tension_strength\n",
      "[4, 5, 8, 9, 10, 11, 12, 13, 14, 16, 18, 19, 21, 22, 23, 24, 25, 26, 27, 28, 29, 30, 33, 34, 35, 37]\n",
      "elongation\n",
      "[0.4, 0.5, 0.6, 0.7, 0.8, 0.9, 1.0, 1.1, 1.2, 1.3, 1.4, 1.5, 1.6, 1.7, 1.8, 1.9, 2.0, 2.1, 2.2, 2.3, 2.4, 2.7, 2.8, 2.9, 3.1, 3.2, 3.3]\n"
     ]
    }
   ],
   "source": [
    "for column in data.columns:\n",
    "    print(column)\n",
    "    print(sorted(data[column].unique()))"
   ]
  },
  {
   "cell_type": "code",
   "execution_count": 5,
   "metadata": {},
   "outputs": [],
   "source": [
    "y = data[data.columns.intersection(['tension_strength'])]\n",
    "#x = data[data.columns.difference(['tension_strength','elongation','roughness'])]\n",
    "x = data[['layer_height','infill_density','nozzle_temperature','wall_thickness']]\n",
    "x_numeric=x.select_dtypes(include=np.number)\n",
    "x_nonnumeric=x.select_dtypes(exclude=np.number)"
   ]
  },
  {
   "cell_type": "code",
   "execution_count": 6,
   "metadata": {},
   "outputs": [],
   "source": [
    "#x = pd.get_dummies(x_nonnumeric).join(x_numeric)"
   ]
  },
  {
   "cell_type": "code",
   "execution_count": 7,
   "metadata": {},
   "outputs": [
    {
     "data": {
      "text/plain": [
       "LinearRegression(copy_X=True, fit_intercept=True, n_jobs=1, normalize=False)"
      ]
     },
     "execution_count": 7,
     "metadata": {},
     "output_type": "execute_result"
    }
   ],
   "source": [
    "regressor_rf = RandomForestRegressor()\n",
    "regressor_rf.fit(x,y.values.reshape(-1))\n",
    "\n",
    "regressor_linear = LinearRegression()\n",
    "regressor_linear.fit(x,y.values.reshape(-1))"
   ]
  },
  {
   "cell_type": "code",
   "execution_count": 8,
   "metadata": {},
   "outputs": [],
   "source": [
    "feature_importance = pd.concat([pd.Series(regressor_rf.feature_importances_,name='importance'),\n",
    "                                pd.Series(x.columns,name='feature')\n",
    "                               ],axis=1\n",
    "                              ).sort_values('importance')"
   ]
  },
  {
   "cell_type": "code",
   "execution_count": 9,
   "metadata": {},
   "outputs": [
    {
     "data": {
      "text/plain": [
       "<matplotlib.axes._subplots.AxesSubplot at 0x7fb70a873fd0>"
      ]
     },
     "execution_count": 9,
     "metadata": {},
     "output_type": "execute_result"
    },
    {
     "data": {
      "image/png": "[encoded data removed]",
      "text/plain": [
       "<Figure size 432x288 with 1 Axes>"
      ]
     },
     "metadata": {},
     "output_type": "display_data"
    }
   ],
   "source": [
    "feature_importance.plot.barh(x='feature',\n",
    "                             y='importance',\n",
    "                             color='grey',\n",
    "                             legend=False\n",
    "                            )\n"
   ]
  },
  {
   "cell_type": "code",
   "execution_count": 10,
   "metadata": {},
   "outputs": [
    {
     "data": {
      "text/plain": [
       "1        infill_density\n",
       "0          layer_height\n",
       "3        wall_thickness\n",
       "2    nozzle_temperature\n",
       "Name: feature, dtype: object"
      ]
     },
     "execution_count": 10,
     "metadata": {},
     "output_type": "execute_result"
    }
   ],
   "source": [
    "feature_importance['feature']"
   ]
  },
  {
   "cell_type": "code",
   "execution_count": 11,
   "metadata": {},
   "outputs": [
    {
     "data": {
      "text/plain": [
       "<seaborn.axisgrid.PairGrid at 0x7fb7644500f0>"
      ]
     },
     "execution_count": 11,
     "metadata": {},
     "output_type": "execute_result"
    },
    {
     "data": {
      "image/png": "[encoded data removed]",
      "text/plain": [
       "<Figure size 900x900 with 30 Axes>"
      ]
     },
     "metadata": {},
     "output_type": "display_data"
    }
   ],
   "source": [
    "sns.pairplot(x.join(y))"
   ]
  },
  {
   "cell_type": "code",
   "execution_count": 12,
   "metadata": {},
   "outputs": [
    {
     "data": {
      "text/plain": [
       "<matplotlib.axes._subplots.AxesSubplot at 0x7fb7067d0898>"
      ]
     },
     "execution_count": 12,
     "metadata": {},
     "output_type": "execute_result"
    },
    {
     "data": {
      "image/png": "[encoded data removed]",
      "text/plain": [
       "<Figure size 432x288 with 1 Axes>"
      ]
     },
     "metadata": {},
     "output_type": "display_data"
    }
   ],
   "source": [
    "pd.concat([pd.Series(regressor_rf.predict(x),name='predicted'),\n",
    "           pd.Series(y.values.reshape(-1),name='actual')\n",
    "          ],axis=1\n",
    "         ).plot.scatter(x='actual',y='predicted')"
   ]
  },
  {
   "cell_type": "code",
   "execution_count": 13,
   "metadata": {},
   "outputs": [
    {
     "data": {
      "text/plain": [
       "<matplotlib.axes._subplots.AxesSubplot at 0x7fb705c6df98>"
      ]
     },
     "execution_count": 13,
     "metadata": {},
     "output_type": "execute_result"
    },
    {
     "data": {
      "image/png": "[encoded data removed]",
      "text/plain": [
       "<Figure size 432x288 with 1 Axes>"
      ]
     },
     "metadata": {},
     "output_type": "display_data"
    }
   ],
   "source": [
    "pd.concat([pd.Series(regressor_linear.predict(x),name='predicted'),\n",
    "           pd.Series(y.values.reshape(-1),name='actual')\n",
    "          ],axis=1\n",
    "         ).plot.scatter(x='actual',y='predicted')"
   ]
  },
  {
   "cell_type": "code",
   "execution_count": 14,
   "metadata": {},
   "outputs": [],
   "source": [
    "metadata = pd.read_csv('metadata.csv')"
   ]
  },
  {
   "cell_type": "code",
   "execution_count": 15,
   "metadata": {},
   "outputs": [
    {
     "data": {
      "text/plain": [
       "Index(['Unnamed: 0', '--fill-angle', '--fill-density', '--fill-pattern',\n",
       "       '--infill-every-layers', '--layer-height', '--perimeters',\n",
       "       '--solid-infill-speed', '--solid-layers', '--temperature',\n",
       "       ...\n",
       "       'top_solid_infill_speed ', 'top_solid_layers ', 'travel_speed ',\n",
       "       'use_firmware_retraction ', 'use_relative_e_distances ',\n",
       "       'use_volumetric_e ', 'vibration_limit ', 'wipe ',\n",
       "       'xy_size_compensation ', 'z_offset '],\n",
       "      dtype='object', length=145)"
      ]
     },
     "execution_count": 15,
     "metadata": {},
     "output_type": "execute_result"
    }
   ],
   "source": [
    "metadata.columns"
   ]
  },
  {
   "cell_type": "code",
   "execution_count": 16,
   "metadata": {},
   "outputs": [],
   "source": [
    "newx = metadata[['--layer-height',\n",
    "                 '--fill-density',\n",
    "                 '--temperature',\n",
    "                 '--solid-layers']\n",
    "               ]"
   ]
  },
  {
   "cell_type": "code",
   "execution_count": 17,
   "metadata": {},
   "outputs": [
    {
     "data": {
      "text/plain": [
       "<seaborn.axisgrid.PairGrid at 0x7fb705b98748>"
      ]
     },
     "execution_count": 17,
     "metadata": {},
     "output_type": "execute_result"
    },
    {
     "data": {
      "image/png": "[encoded data removed]",
      "text/plain": [
       "<Figure size 720x720 with 20 Axes>"
      ]
     },
     "metadata": {},
     "output_type": "display_data"
    }
   ],
   "source": [
    "sns.pairplot(newx)"
   ]
  },
  {
   "cell_type": "code",
   "execution_count": 18,
   "metadata": {},
   "outputs": [],
   "source": [
    "tensile = regressor_linear.predict(newx)"
   ]
  },
  {
   "cell_type": "code",
   "execution_count": 19,
   "metadata": {},
   "outputs": [],
   "source": [
    "metadata = metadata.join(pd.Series(tensile,name='tensile_strength_predicted'))"
   ]
  },
  {
   "cell_type": "code",
   "execution_count": 20,
   "metadata": {},
   "outputs": [],
   "source": [
    "filament = metadata['filament used '].str.strip(' ')\\\n",
    "                                    .str.split(' ',expand=True)\\\n",
    "                                    .rename(columns={0:'filament_used_mm',\n",
    "                                                     1:'filament_used_cm3'\n",
    "                                                    }\n",
    "                                           )\n"
   ]
  },
  {
   "cell_type": "markdown",
   "metadata": {},
   "source": [
    "Let's multiply these columns by 100 to make them more understandable."
   ]
  },
  {
   "cell_type": "code",
   "execution_count": 21,
   "metadata": {},
   "outputs": [],
   "source": [
    "metadata['filament_used_mm'] = filament['filament_used_mm'].str.replace('mm','')\\\n",
    "                                                           .apply(float)\n",
    "\n",
    "metadata['filament_used_cm3'] = filament['filament_used_cm3'].str.strip('()')\\\n",
    "                                                             .str.replace('cm3','')\\\n",
    "                                                             .apply(float)"
   ]
  },
  {
   "cell_type": "code",
   "execution_count": 22,
   "metadata": {},
   "outputs": [
    {
     "data": {
      "text/plain": [
       "<matplotlib.axes._subplots.AxesSubplot at 0x7fb6ff5c8198>"
      ]
     },
     "execution_count": 22,
     "metadata": {},
     "output_type": "execute_result"
    },
    {
     "data": {
      "image/png": "[encoded data removed]",
      "text/plain": [
       "<Figure size 432x288 with 1 Axes>"
      ]
     },
     "metadata": {},
     "output_type": "display_data"
    }
   ],
   "source": [
    "sns.scatterplot(x='filament_used_cm3',y='tensile_strength_predicted',data=metadata)"
   ]
  },
  {
   "cell_type": "code",
   "execution_count": 32,
   "metadata": {},
   "outputs": [],
   "source": [
    "y = metadata[metadata.columns.intersection(['filament_used_cm3'])]\n",
    "x = metadata[metadata.columns.difference(['filament_used_cm3'])]\n",
    "x_numeric = x.select_dtypes(include=np.number)\n",
    "x_non_numeric = x.select_dtypes(exclude=np.number)"
   ]
  },
  {
   "cell_type": "code",
   "execution_count": 33,
   "metadata": {},
   "outputs": [],
   "source": [
    "regressor_rf = RandomForestRegressor()"
   ]
  },
  {
   "cell_type": "code",
   "execution_count": 34,
   "metadata": {},
   "outputs": [
    {
     "name": "stderr",
     "output_type": "stream",
     "text": [
      "/usr/lib/python3/dist-packages/ipykernel_launcher.py:1: DataConversionWarning: A column-vector y was passed when a 1d array was expected. Please change the shape of y to (n_samples,), for example using ravel().\n",
      "  \"\"\"Entry point for launching an IPython kernel.\n"
     ]
    },
    {
     "data": {
      "text/plain": [
       "RandomForestRegressor(bootstrap=True, criterion='mse', max_depth=None,\n",
       "           max_features='auto', max_leaf_nodes=None,\n",
       "           min_impurity_decrease=0.0, min_impurity_split=None,\n",
       "           min_samples_leaf=1, min_samples_split=2,\n",
       "           min_weight_fraction_leaf=0.0, n_estimators=10, n_jobs=1,\n",
       "           oob_score=False, random_state=None, verbose=0, warm_start=False)"
      ]
     },
     "execution_count": 34,
     "metadata": {},
     "output_type": "execute_result"
    }
   ],
   "source": [
    "regressor_rf.fit(x_numeric.dropna(1),y)"
   ]
  },
  {
   "cell_type": "code",
   "execution_count": 35,
   "metadata": {},
   "outputs": [],
   "source": [
    "feature_importance = pd.concat([pd.Series(regressor_rf.feature_importances_,name='importance'),\n",
    "                                pd.Series(x.columns,name='feature')\n",
    "                               ],axis=1\n",
    "                              ).sort_values('importance')"
   ]
  },
  {
   "cell_type": "code",
   "execution_count": 45,
   "metadata": {},
   "outputs": [
    {
     "data": {
      "text/html": [
       "<div>\n",
       "<style scoped>\n",
       "    .dataframe tbody tr th:only-of-type {\n",
       "        vertical-align: middle;\n",
       "    }\n",
       "\n",
       "    .dataframe tbody tr th {\n",
       "        vertical-align: top;\n",
       "    }\n",
       "\n",
       "    .dataframe thead th {\n",
       "        text-align: right;\n",
       "    }\n",
       "</style>\n",
       "<table border=\"1\" class=\"dataframe\">\n",
       "  <thead>\n",
       "    <tr style=\"text-align: right;\">\n",
       "      <th></th>\n",
       "      <th>importance</th>\n",
       "      <th>feature</th>\n",
       "    </tr>\n",
       "  </thead>\n",
       "  <tbody>\n",
       "    <tr>\n",
       "      <th>58</th>\n",
       "      <td>0.000000e+00</td>\n",
       "      <td>gcode_flavor</td>\n",
       "    </tr>\n",
       "    <tr>\n",
       "      <th>82</th>\n",
       "      <td>0.000000e+00</td>\n",
       "      <td>overhangs</td>\n",
       "    </tr>\n",
       "    <tr>\n",
       "      <th>81</th>\n",
       "      <td>0.000000e+00</td>\n",
       "      <td>output_filename_format</td>\n",
       "    </tr>\n",
       "    <tr>\n",
       "      <th>80</th>\n",
       "      <td>0.000000e+00</td>\n",
       "      <td>ooze_prevention</td>\n",
       "    </tr>\n",
       "    <tr>\n",
       "      <th>79</th>\n",
       "      <td>0.000000e+00</td>\n",
       "      <td>only_retract_when_crossing_perimeters</td>\n",
       "    </tr>\n",
       "    <tr>\n",
       "      <th>78</th>\n",
       "      <td>0.000000e+00</td>\n",
       "      <td>nozzle_diameter</td>\n",
       "    </tr>\n",
       "    <tr>\n",
       "      <th>77</th>\n",
       "      <td>0.000000e+00</td>\n",
       "      <td>notes</td>\n",
       "    </tr>\n",
       "    <tr>\n",
       "      <th>76</th>\n",
       "      <td>0.000000e+00</td>\n",
       "      <td>min_skirt_length</td>\n",
       "    </tr>\n",
       "    <tr>\n",
       "      <th>75</th>\n",
       "      <td>0.000000e+00</td>\n",
       "      <td>min_print_speed</td>\n",
       "    </tr>\n",
       "    <tr>\n",
       "      <th>74</th>\n",
       "      <td>0.000000e+00</td>\n",
       "      <td>min_fan_speed</td>\n",
       "    </tr>\n",
       "    <tr>\n",
       "      <th>73</th>\n",
       "      <td>0.000000e+00</td>\n",
       "      <td>max_volumetric_speed</td>\n",
       "    </tr>\n",
       "    <tr>\n",
       "      <th>72</th>\n",
       "      <td>0.000000e+00</td>\n",
       "      <td>max_print_speed</td>\n",
       "    </tr>\n",
       "    <tr>\n",
       "      <th>83</th>\n",
       "      <td>0.000000e+00</td>\n",
       "      <td>perimeter_acceleration</td>\n",
       "    </tr>\n",
       "    <tr>\n",
       "      <th>71</th>\n",
       "      <td>0.000000e+00</td>\n",
       "      <td>max_fan_speed</td>\n",
       "    </tr>\n",
       "    <tr>\n",
       "      <th>69</th>\n",
       "      <td>0.000000e+00</td>\n",
       "      <td>layer_gcode</td>\n",
       "    </tr>\n",
       "    <tr>\n",
       "      <th>68</th>\n",
       "      <td>0.000000e+00</td>\n",
       "      <td>interface_shells</td>\n",
       "    </tr>\n",
       "    <tr>\n",
       "      <th>66</th>\n",
       "      <td>0.000000e+00</td>\n",
       "      <td>infill_overlap</td>\n",
       "    </tr>\n",
       "    <tr>\n",
       "      <th>65</th>\n",
       "      <td>0.000000e+00</td>\n",
       "      <td>infill_only_where_needed</td>\n",
       "    </tr>\n",
       "    <tr>\n",
       "      <th>64</th>\n",
       "      <td>0.000000e+00</td>\n",
       "      <td>infill_first</td>\n",
       "    </tr>\n",
       "    <tr>\n",
       "      <th>63</th>\n",
       "      <td>0.000000e+00</td>\n",
       "      <td>infill_extrusion_width</td>\n",
       "    </tr>\n",
       "    <tr>\n",
       "      <th>62</th>\n",
       "      <td>0.000000e+00</td>\n",
       "      <td>infill_extruder</td>\n",
       "    </tr>\n",
       "    <tr>\n",
       "      <th>61</th>\n",
       "      <td>0.000000e+00</td>\n",
       "      <td>infill_every_layers</td>\n",
       "    </tr>\n",
       "    <tr>\n",
       "      <th>60</th>\n",
       "      <td>0.000000e+00</td>\n",
       "      <td>infill_acceleration</td>\n",
       "    </tr>\n",
       "    <tr>\n",
       "      <th>59</th>\n",
       "      <td>0.000000e+00</td>\n",
       "      <td>infill extrusion width</td>\n",
       "    </tr>\n",
       "    <tr>\n",
       "      <th>116</th>\n",
       "      <td>0.000000e+00</td>\n",
       "      <td>support_material</td>\n",
       "    </tr>\n",
       "    <tr>\n",
       "      <th>70</th>\n",
       "      <td>0.000000e+00</td>\n",
       "      <td>layer_height</td>\n",
       "    </tr>\n",
       "    <tr>\n",
       "      <th>84</th>\n",
       "      <td>0.000000e+00</td>\n",
       "      <td>perimeter_extruder</td>\n",
       "    </tr>\n",
       "    <tr>\n",
       "      <th>85</th>\n",
       "      <td>0.000000e+00</td>\n",
       "      <td>perimeter_extrusion_width</td>\n",
       "    </tr>\n",
       "    <tr>\n",
       "      <th>86</th>\n",
       "      <td>0.000000e+00</td>\n",
       "      <td>perimeter_speed</td>\n",
       "    </tr>\n",
       "    <tr>\n",
       "      <th>115</th>\n",
       "      <td>0.000000e+00</td>\n",
       "      <td>start_gcode</td>\n",
       "    </tr>\n",
       "    <tr>\n",
       "      <th>...</th>\n",
       "      <td>...</td>\n",
       "      <td>...</td>\n",
       "    </tr>\n",
       "    <tr>\n",
       "      <th>53</th>\n",
       "      <td>0.000000e+00</td>\n",
       "      <td>first_layer_speed</td>\n",
       "    </tr>\n",
       "    <tr>\n",
       "      <th>44</th>\n",
       "      <td>0.000000e+00</td>\n",
       "      <td>filament_used_mm</td>\n",
       "    </tr>\n",
       "    <tr>\n",
       "      <th>43</th>\n",
       "      <td>0.000000e+00</td>\n",
       "      <td>filament_diameter</td>\n",
       "    </tr>\n",
       "    <tr>\n",
       "      <th>51</th>\n",
       "      <td>0.000000e+00</td>\n",
       "      <td>first_layer_extrusion_width</td>\n",
       "    </tr>\n",
       "    <tr>\n",
       "      <th>42</th>\n",
       "      <td>0.000000e+00</td>\n",
       "      <td>filament_colour</td>\n",
       "    </tr>\n",
       "    <tr>\n",
       "      <th>40</th>\n",
       "      <td>0.000000e+00</td>\n",
       "      <td>fan_below_layer_time</td>\n",
       "    </tr>\n",
       "    <tr>\n",
       "      <th>39</th>\n",
       "      <td>0.000000e+00</td>\n",
       "      <td>fan_always_on</td>\n",
       "    </tr>\n",
       "    <tr>\n",
       "      <th>38</th>\n",
       "      <td>0.000000e+00</td>\n",
       "      <td>extrusion_width</td>\n",
       "    </tr>\n",
       "    <tr>\n",
       "      <th>37</th>\n",
       "      <td>0.000000e+00</td>\n",
       "      <td>extrusion_multiplier</td>\n",
       "    </tr>\n",
       "    <tr>\n",
       "      <th>36</th>\n",
       "      <td>0.000000e+00</td>\n",
       "      <td>extrusion_axis</td>\n",
       "    </tr>\n",
       "    <tr>\n",
       "      <th>41</th>\n",
       "      <td>0.000000e+00</td>\n",
       "      <td>filament used</td>\n",
       "    </tr>\n",
       "    <tr>\n",
       "      <th>5</th>\n",
       "      <td>1.922763e-09</td>\n",
       "      <td>--perimeters</td>\n",
       "    </tr>\n",
       "    <tr>\n",
       "      <th>103</th>\n",
       "      <td>1.923863e-09</td>\n",
       "      <td>skirt_height</td>\n",
       "    </tr>\n",
       "    <tr>\n",
       "      <th>88</th>\n",
       "      <td>3.090155e-09</td>\n",
       "      <td>perimeters extrusion width</td>\n",
       "    </tr>\n",
       "    <tr>\n",
       "      <th>1</th>\n",
       "      <td>1.415610e-07</td>\n",
       "      <td>--fill-density</td>\n",
       "    </tr>\n",
       "    <tr>\n",
       "      <th>8</th>\n",
       "      <td>1.737759e-07</td>\n",
       "      <td>--temperature</td>\n",
       "    </tr>\n",
       "    <tr>\n",
       "      <th>0</th>\n",
       "      <td>6.299218e-07</td>\n",
       "      <td>--fill-angle</td>\n",
       "    </tr>\n",
       "    <tr>\n",
       "      <th>35</th>\n",
       "      <td>1.031924e-06</td>\n",
       "      <td>extruder_offset</td>\n",
       "    </tr>\n",
       "    <tr>\n",
       "      <th>104</th>\n",
       "      <td>1.088785e-06</td>\n",
       "      <td>skirts</td>\n",
       "    </tr>\n",
       "    <tr>\n",
       "      <th>45</th>\n",
       "      <td>1.955285e-06</td>\n",
       "      <td>filenumber</td>\n",
       "    </tr>\n",
       "    <tr>\n",
       "      <th>2</th>\n",
       "      <td>2.019005e-06</td>\n",
       "      <td>--fill-pattern</td>\n",
       "    </tr>\n",
       "    <tr>\n",
       "      <th>34</th>\n",
       "      <td>3.527607e-06</td>\n",
       "      <td>extruder_clearance_radius</td>\n",
       "    </tr>\n",
       "    <tr>\n",
       "      <th>67</th>\n",
       "      <td>6.748016e-06</td>\n",
       "      <td>infill_speed</td>\n",
       "    </tr>\n",
       "    <tr>\n",
       "      <th>11</th>\n",
       "      <td>1.043317e-05</td>\n",
       "      <td>bed_shape</td>\n",
       "    </tr>\n",
       "    <tr>\n",
       "      <th>109</th>\n",
       "      <td>1.083625e-05</td>\n",
       "      <td>solid_infill_every_layers</td>\n",
       "    </tr>\n",
       "    <tr>\n",
       "      <th>6</th>\n",
       "      <td>1.481226e-05</td>\n",
       "      <td>--solid-infill-speed</td>\n",
       "    </tr>\n",
       "    <tr>\n",
       "      <th>3</th>\n",
       "      <td>1.622730e-05</td>\n",
       "      <td>--infill-every-layers</td>\n",
       "    </tr>\n",
       "    <tr>\n",
       "      <th>52</th>\n",
       "      <td>1.798123e-05</td>\n",
       "      <td>first_layer_height</td>\n",
       "    </tr>\n",
       "    <tr>\n",
       "      <th>4</th>\n",
       "      <td>8.134448e-05</td>\n",
       "      <td>--layer-height</td>\n",
       "    </tr>\n",
       "    <tr>\n",
       "      <th>33</th>\n",
       "      <td>9.998310e-01</td>\n",
       "      <td>extruder_clearance_height</td>\n",
       "    </tr>\n",
       "  </tbody>\n",
       "</table>\n",
       "<p>118 rows × 2 columns</p>\n",
       "</div>"
      ],
      "text/plain": [
       "       importance                                 feature\n",
       "58   0.000000e+00                           gcode_flavor \n",
       "82   0.000000e+00                              overhangs \n",
       "81   0.000000e+00                 output_filename_format \n",
       "80   0.000000e+00                        ooze_prevention \n",
       "79   0.000000e+00  only_retract_when_crossing_perimeters \n",
       "78   0.000000e+00                        nozzle_diameter \n",
       "77   0.000000e+00                                  notes \n",
       "76   0.000000e+00                       min_skirt_length \n",
       "75   0.000000e+00                        min_print_speed \n",
       "74   0.000000e+00                          min_fan_speed \n",
       "73   0.000000e+00                   max_volumetric_speed \n",
       "72   0.000000e+00                        max_print_speed \n",
       "83   0.000000e+00                 perimeter_acceleration \n",
       "71   0.000000e+00                          max_fan_speed \n",
       "69   0.000000e+00                            layer_gcode \n",
       "68   0.000000e+00                       interface_shells \n",
       "66   0.000000e+00                         infill_overlap \n",
       "65   0.000000e+00               infill_only_where_needed \n",
       "64   0.000000e+00                           infill_first \n",
       "63   0.000000e+00                 infill_extrusion_width \n",
       "62   0.000000e+00                        infill_extruder \n",
       "61   0.000000e+00                    infill_every_layers \n",
       "60   0.000000e+00                    infill_acceleration \n",
       "59   0.000000e+00                 infill extrusion width \n",
       "116  0.000000e+00                       support_material \n",
       "70   0.000000e+00                           layer_height \n",
       "84   0.000000e+00                     perimeter_extruder \n",
       "85   0.000000e+00              perimeter_extrusion_width \n",
       "86   0.000000e+00                        perimeter_speed \n",
       "115  0.000000e+00                            start_gcode \n",
       "..            ...                                     ...\n",
       "53   0.000000e+00                      first_layer_speed \n",
       "44   0.000000e+00                        filament_used_mm\n",
       "43   0.000000e+00                      filament_diameter \n",
       "51   0.000000e+00            first_layer_extrusion_width \n",
       "42   0.000000e+00                        filament_colour \n",
       "40   0.000000e+00                   fan_below_layer_time \n",
       "39   0.000000e+00                          fan_always_on \n",
       "38   0.000000e+00                        extrusion_width \n",
       "37   0.000000e+00                   extrusion_multiplier \n",
       "36   0.000000e+00                         extrusion_axis \n",
       "41   0.000000e+00                          filament used \n",
       "5    1.922763e-09                            --perimeters\n",
       "103  1.923863e-09                           skirt_height \n",
       "88   3.090155e-09             perimeters extrusion width \n",
       "1    1.415610e-07                          --fill-density\n",
       "8    1.737759e-07                           --temperature\n",
       "0    6.299218e-07                            --fill-angle\n",
       "35   1.031924e-06                        extruder_offset \n",
       "104  1.088785e-06                                 skirts \n",
       "45   1.955285e-06                              filenumber\n",
       "2    2.019005e-06                          --fill-pattern\n",
       "34   3.527607e-06              extruder_clearance_radius \n",
       "67   6.748016e-06                           infill_speed \n",
       "11   1.043317e-05                              bed_shape \n",
       "109  1.083625e-05              solid_infill_every_layers \n",
       "6    1.481226e-05                    --solid-infill-speed\n",
       "3    1.622730e-05                   --infill-every-layers\n",
       "52   1.798123e-05                     first_layer_height \n",
       "4    8.134448e-05                          --layer-height\n",
       "33   9.998310e-01              extruder_clearance_height \n",
       "\n",
       "[118 rows x 2 columns]"
      ]
     },
     "execution_count": 45,
     "metadata": {},
     "output_type": "execute_result"
    }
   ],
   "source": [
    "feature_importance.dropna()"
   ]
  },
  {
   "cell_type": "code",
   "execution_count": 40,
   "metadata": {},
   "outputs": [
    {
     "ename": "TypeError",
     "evalue": "unhashable type: 'slice'",
     "output_type": "error",
     "traceback": [
      "\u001b[0;31m---------------------------------------------------------------------------\u001b[0m",
      "\u001b[0;31mTypeError\u001b[0m                                 Traceback (most recent call last)",
      "\u001b[0;32m<ipython-input-40-85daf49c0d74>\u001b[0m in \u001b[0;36m<module>\u001b[0;34m()\u001b[0m\n\u001b[0;32m----> 1\u001b[0;31m feature_importance[:-10,].plot.barh(x='feature',\n\u001b[0m\u001b[1;32m      2\u001b[0m                              \u001b[0my\u001b[0m\u001b[0;34m=\u001b[0m\u001b[0;34m'importance'\u001b[0m\u001b[0;34m,\u001b[0m\u001b[0;34m\u001b[0m\u001b[0;34m\u001b[0m\u001b[0m\n\u001b[1;32m      3\u001b[0m                              \u001b[0mcolor\u001b[0m\u001b[0;34m=\u001b[0m\u001b[0;34m'grey'\u001b[0m\u001b[0;34m,\u001b[0m\u001b[0;34m\u001b[0m\u001b[0;34m\u001b[0m\u001b[0m\n\u001b[1;32m      4\u001b[0m                              \u001b[0mlegend\u001b[0m\u001b[0;34m=\u001b[0m\u001b[0;32mFalse\u001b[0m\u001b[0;34m\u001b[0m\u001b[0;34m\u001b[0m\u001b[0m\n\u001b[1;32m      5\u001b[0m                             )\n",
      "\u001b[0;32m/home/thom/.local/lib/python3.6/site-packages/pandas/core/frame.py\u001b[0m in \u001b[0;36m__getitem__\u001b[0;34m(self, key)\u001b[0m\n\u001b[1;32m   2686\u001b[0m             \u001b[0;32mreturn\u001b[0m \u001b[0mself\u001b[0m\u001b[0;34m.\u001b[0m\u001b[0m_getitem_multilevel\u001b[0m\u001b[0;34m(\u001b[0m\u001b[0mkey\u001b[0m\u001b[0;34m)\u001b[0m\u001b[0;34m\u001b[0m\u001b[0;34m\u001b[0m\u001b[0m\n\u001b[1;32m   2687\u001b[0m         \u001b[0;32melse\u001b[0m\u001b[0;34m:\u001b[0m\u001b[0;34m\u001b[0m\u001b[0;34m\u001b[0m\u001b[0m\n\u001b[0;32m-> 2688\u001b[0;31m             \u001b[0;32mreturn\u001b[0m \u001b[0mself\u001b[0m\u001b[0;34m.\u001b[0m\u001b[0m_getitem_column\u001b[0m\u001b[0;34m(\u001b[0m\u001b[0mkey\u001b[0m\u001b[0;34m)\u001b[0m\u001b[0;34m\u001b[0m\u001b[0;34m\u001b[0m\u001b[0m\n\u001b[0m\u001b[1;32m   2689\u001b[0m \u001b[0;34m\u001b[0m\u001b[0m\n\u001b[1;32m   2690\u001b[0m     \u001b[0;32mdef\u001b[0m \u001b[0m_getitem_column\u001b[0m\u001b[0;34m(\u001b[0m\u001b[0mself\u001b[0m\u001b[0;34m,\u001b[0m \u001b[0mkey\u001b[0m\u001b[0;34m)\u001b[0m\u001b[0;34m:\u001b[0m\u001b[0;34m\u001b[0m\u001b[0;34m\u001b[0m\u001b[0m\n",
      "\u001b[0;32m/home/thom/.local/lib/python3.6/site-packages/pandas/core/frame.py\u001b[0m in \u001b[0;36m_getitem_column\u001b[0;34m(self, key)\u001b[0m\n\u001b[1;32m   2693\u001b[0m         \u001b[0;31m# get column\u001b[0m\u001b[0;34m\u001b[0m\u001b[0;34m\u001b[0m\u001b[0;34m\u001b[0m\u001b[0m\n\u001b[1;32m   2694\u001b[0m         \u001b[0;32mif\u001b[0m \u001b[0mself\u001b[0m\u001b[0;34m.\u001b[0m\u001b[0mcolumns\u001b[0m\u001b[0;34m.\u001b[0m\u001b[0mis_unique\u001b[0m\u001b[0;34m:\u001b[0m\u001b[0;34m\u001b[0m\u001b[0;34m\u001b[0m\u001b[0m\n\u001b[0;32m-> 2695\u001b[0;31m             \u001b[0;32mreturn\u001b[0m \u001b[0mself\u001b[0m\u001b[0;34m.\u001b[0m\u001b[0m_get_item_cache\u001b[0m\u001b[0;34m(\u001b[0m\u001b[0mkey\u001b[0m\u001b[0;34m)\u001b[0m\u001b[0;34m\u001b[0m\u001b[0;34m\u001b[0m\u001b[0m\n\u001b[0m\u001b[1;32m   2696\u001b[0m \u001b[0;34m\u001b[0m\u001b[0m\n\u001b[1;32m   2697\u001b[0m         \u001b[0;31m# duplicate columns & possible reduce dimensionality\u001b[0m\u001b[0;34m\u001b[0m\u001b[0;34m\u001b[0m\u001b[0;34m\u001b[0m\u001b[0m\n",
      "\u001b[0;32m/home/thom/.local/lib/python3.6/site-packages/pandas/core/generic.py\u001b[0m in \u001b[0;36m_get_item_cache\u001b[0;34m(self, item)\u001b[0m\n\u001b[1;32m   2485\u001b[0m         \u001b[0;34m\"\"\"Return the cached item, item represents a label indexer.\"\"\"\u001b[0m\u001b[0;34m\u001b[0m\u001b[0;34m\u001b[0m\u001b[0m\n\u001b[1;32m   2486\u001b[0m         \u001b[0mcache\u001b[0m \u001b[0;34m=\u001b[0m \u001b[0mself\u001b[0m\u001b[0;34m.\u001b[0m\u001b[0m_item_cache\u001b[0m\u001b[0;34m\u001b[0m\u001b[0;34m\u001b[0m\u001b[0m\n\u001b[0;32m-> 2487\u001b[0;31m         \u001b[0mres\u001b[0m \u001b[0;34m=\u001b[0m \u001b[0mcache\u001b[0m\u001b[0;34m.\u001b[0m\u001b[0mget\u001b[0m\u001b[0;34m(\u001b[0m\u001b[0mitem\u001b[0m\u001b[0;34m)\u001b[0m\u001b[0;34m\u001b[0m\u001b[0;34m\u001b[0m\u001b[0m\n\u001b[0m\u001b[1;32m   2488\u001b[0m         \u001b[0;32mif\u001b[0m \u001b[0mres\u001b[0m \u001b[0;32mis\u001b[0m \u001b[0;32mNone\u001b[0m\u001b[0;34m:\u001b[0m\u001b[0;34m\u001b[0m\u001b[0;34m\u001b[0m\u001b[0m\n\u001b[1;32m   2489\u001b[0m             \u001b[0mvalues\u001b[0m \u001b[0;34m=\u001b[0m \u001b[0mself\u001b[0m\u001b[0;34m.\u001b[0m\u001b[0m_data\u001b[0m\u001b[0;34m.\u001b[0m\u001b[0mget\u001b[0m\u001b[0;34m(\u001b[0m\u001b[0mitem\u001b[0m\u001b[0;34m)\u001b[0m\u001b[0;34m\u001b[0m\u001b[0;34m\u001b[0m\u001b[0m\n",
      "\u001b[0;31mTypeError\u001b[0m: unhashable type: 'slice'"
     ]
    }
   ],
   "source": [
    "feature_importance.plot.barh(x='feature',\n",
    "                             y='importance',\n",
    "                             color='grey',\n",
    "                             legend=False\n",
    "                            )\n"
   ]
  },
  {
   "cell_type": "code",
   "execution_count": null,
   "metadata": {},
   "outputs": [],
   "source": []
  },
  {
   "cell_type": "code",
   "execution_count": null,
   "metadata": {},
   "outputs": [],
   "source": [
    "data.layer_height = data.layer_height*100\n",
    "data.elongation = data.elongation*100"
   ]
  },
  {
   "cell_type": "code",
   "execution_count": null,
   "metadata": {},
   "outputs": [],
   "source": [
    "data.head()"
   ]
  },
  {
   "cell_type": "markdown",
   "metadata": {},
   "source": [
    "In this data set, ABS and PLA assigned 0 and 1 values for materials."
   ]
  },
  {
   "cell_type": "code",
   "execution_count": null,
   "metadata": {},
   "outputs": [],
   "source": [
    "data.material = [0 if each == \"abs\" else 1 for each in data.material]\n",
    "# abs = 0, pla = 1\n",
    "\n",
    "data.infill_pattern = [0 if each == \"grid\" else 1 for each in data.infill_pattern]\n",
    "# grid = 0, honeycomb = 1"
   ]
  },
  {
   "cell_type": "code",
   "execution_count": null,
   "metadata": {},
   "outputs": [],
   "source": [
    "data.head()"
   ]
  },
  {
   "cell_type": "markdown",
   "metadata": {},
   "source": [
    "Seperate Input parameters and Prediction Materials."
   ]
  },
  {
   "cell_type": "code",
   "execution_count": null,
   "metadata": {},
   "outputs": [],
   "source": [
    "y_data = data.material.values\n",
    "x_data = data.drop([\"material\"],axis=1)"
   ]
  },
  {
   "cell_type": "code",
   "execution_count": null,
   "metadata": {},
   "outputs": [],
   "source": [
    "absm = data[data.material == 0]\n",
    "pla = data[data.material == 1]"
   ]
  },
  {
   "cell_type": "code",
   "execution_count": null,
   "metadata": {},
   "outputs": [],
   "source": [
    "absm.head()"
   ]
  },
  {
   "cell_type": "code",
   "execution_count": null,
   "metadata": {},
   "outputs": [],
   "source": [
    "import matplotlib.pyplot as plt"
   ]
  },
  {
   "cell_type": "code",
   "execution_count": null,
   "metadata": {},
   "outputs": [],
   "source": [
    "plt.scatter(absm.fan_speed,absm.tension_strenght,color=\"red\",label=\"ABS\",alpha= 0.5)\n",
    "plt.scatter(pla.fan_speed,pla.tension_strenght,color=\"green\",label=\"PLA\",alpha= 0.5)\n",
    "plt.xlabel(\"Fan Speed\")\n",
    "plt.ylabel(\"Tension Strength\")\n",
    "plt.legend()\n",
    "plt.show()"
   ]
  },
  {
   "cell_type": "markdown",
   "metadata": {},
   "source": [
    "As you see, the air circulation not good for ABS"
   ]
  },
  {
   "cell_type": "code",
   "execution_count": null,
   "metadata": {},
   "outputs": [],
   "source": [
    "plt.scatter(absm.layer_height,absm.roughness,color=\"blue\",label=\"ABS\",alpha= 0.9)\n",
    "plt.scatter(pla.layer_height,pla.roughness,color=\"pink\",label=\"PLA\",alpha= 0.9)\n",
    "plt.xlabel(\"Layer Height\")\n",
    "plt.ylabel(\"Roughness\")\n",
    "plt.legend()\n",
    "plt.show()"
   ]
  },
  {
   "cell_type": "markdown",
   "metadata": {},
   "source": [
    "You can see as the layer height increases, the tensile strength increases. But PLA smoother than ABS"
   ]
  },
  {
   "cell_type": "code",
   "execution_count": null,
   "metadata": {},
   "outputs": [],
   "source": [
    "from mpl_toolkits.mplot3d import Axes3D\n",
    "import matplotlib.pyplot as plt\n",
    "\n",
    "fig = plt.figure()\n",
    "ax = fig.add_subplot(111, projection='3d')\n",
    "\n",
    "x = data.infill_density\n",
    "y = data.wall_thickness\n",
    "z = data.tension_strenght\n",
    "\n",
    "ax.scatter(x, y, z, c='r', marker='o')\n",
    "\n",
    "ax.set_xlabel('Infill Density')\n",
    "ax.set_ylabel('Wall Thickness')\n",
    "ax.set_zlabel('Tension Strenght')\n",
    "\n",
    "plt.show()"
   ]
  },
  {
   "cell_type": "code",
   "execution_count": null,
   "metadata": {},
   "outputs": [],
   "source": [
    "# normalization \n",
    "x_norm = (x_data - np.min(x_data))/(np.max(x_data)-np.min(x_data))\n",
    "\n",
    "# train test split\n",
    "from sklearn.model_selection import train_test_split\n",
    "x_train, x_test, y_train, y_test = train_test_split(x_norm,y_data,test_size = 0.3,random_state=1)\n",
    "\n",
    "from sklearn.neighbors import KNeighborsClassifier\n",
    "knn = KNeighborsClassifier(n_neighbors = 3) # n_neighbors = k\n",
    "knn.fit(x_train,y_train)\n",
    "prediction = knn.predict(x_test)\n",
    "print(\" {} nn score: {} \".format(3,knn.score(x_test,y_test)))\n",
    "\n",
    "score_list = []\n",
    "for each in range(1,15):\n",
    "    knn2 = KNeighborsClassifier(n_neighbors = each)\n",
    "    knn2.fit(x_train,y_train)\n",
    "    score_list.append(knn2.score(x_test,y_test))\n",
    "    print(\" {} nn score: {} \".format(each,knn2.score(x_test,y_test)))\n",
    "    \n",
    "plt.plot(range(1,15),score_list)\n",
    "plt.xlabel(\"k values\")\n",
    "plt.ylabel(\"accuracy\")\n",
    "plt.show()"
   ]
  },
  {
   "cell_type": "code",
   "execution_count": null,
   "metadata": {},
   "outputs": [],
   "source": [
    "import keras\n",
    "from keras.models import Sequential\n",
    "from keras.layers import Dense, Dropout, Activation\n",
    "from keras.layers import Input, Dense, Flatten\n",
    "from keras.optimizers import SGD\n",
    "from keras.layers.normalization import BatchNormalization\n",
    "\n",
    "model = Sequential()\n",
    "model.add(Dense(32,input_dim=11))\n",
    "model.add(BatchNormalization(axis = -1))\n",
    "model.add(Activation('relu'))\n",
    "model.add(Dropout(0.25))\n",
    "model.add(Dense(64))\n",
    "model.add(Activation('relu'))\n",
    "model.add(Dropout(0.25))\n",
    "model.add(Dense(16))\n",
    "model.add(Activation('softmax'))\n",
    "\n",
    "model.compile(optimizer='adam', loss = 'sparse_categorical_crossentropy', metrics=['accuracy'])\n",
    "model.fit(x_data,y, epochs=500, batch_size =32, validation_split= 0.20)"
   ]
  },
  {
   "cell_type": "code",
   "execution_count": null,
   "metadata": {},
   "outputs": [],
   "source": [
    "a1 = 4 #layer_height*100\n",
    "a2 = 5 #wall_thickness\n",
    "a3 = 60 #infill_density\n",
    "a4 = 0 #infilkk_pattern\n",
    "a5 = 232 #nozzle_temperature \n",
    "a6 = 74 #bed_temperature\n",
    "a7 = 90 #print_speed\n",
    "a8 = 100 #fan_speed\n",
    "a9 = 150 #roughness\n",
    "a10 = 30 #tension_strenght\n",
    "a11 = 200 #elangation*100\n",
    "\n",
    "tahmin = np.array([a1,a2,a3,a4,a5,a6,a7,a8,a9,a10,a11]).reshape(1,11)\n",
    "print(model.predict_classes(tahmin))\n",
    "\n",
    "if model.predict_classes(tahmin) == 0: \n",
    "    print(\"Material is ABS\")\n",
    "else:   \n",
    "    print(\"Material is PLA.\")"
   ]
  }
 ],
 "metadata": {
  "kernelspec": {
   "display_name": "Python 3",
   "language": "python",
   "name": "python3"
  },
  "language_info": {
   "codemirror_mode": {
    "name": "ipython",
    "version": 3
   },
   "file_extension": ".py",
   "mimetype": "text/x-python",
   "name": "python",
   "nbconvert_exporter": "python",
   "pygments_lexer": "ipython3",
   "version": "3.6.7"
  }
 },
 "nbformat": 4,
 "nbformat_minor": 2
}
